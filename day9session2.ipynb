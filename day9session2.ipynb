{
  "nbformat": 4,
  "nbformat_minor": 0,
  "metadata": {
    "colab": {
      "provenance": []
    },
    "kernelspec": {
      "name": "python3",
      "display_name": "Python 3"
    },
    "language_info": {
      "name": "python"
    }
  },
  "cells": [
    {
      "cell_type": "code",
      "execution_count": 1,
      "metadata": {
        "id": "alMP8CzK8_WX"
      },
      "outputs": [],
      "source": [
        "#leetcode question no 875. kolo eating bananas\n",
        "class Solution:\n",
        "    def minEatingSpeed(self, piles, h):\n",
        "        def canEatAll(speed):\n",
        "            hours = 0\n",
        "            for pile in piles:\n",
        "                hours += math.ceil(pile / speed)\n",
        "            return hours <= h\n",
        "\n",
        "        left, right = 1, max(piles)\n",
        "        answer = right\n",
        "\n",
        "        while left <= right:\n",
        "            mid = (left + right) // 2\n",
        "            if canEatAll(mid):\n",
        "                answer = mid\n",
        "                right = mid - 1\n",
        "            else:\n",
        "                left = mid + 1\n",
        "\n",
        "        return answer"
      ]
    },
    {
      "cell_type": "code",
      "source": [
        "#leetcode question n0 1011. cpacity to ship packages with D days\n",
        "import math\n",
        "from typing import List\n",
        "class Solution:\n",
        "    def shipWithinDays(self, weights: List[int], days: int) -> int:\n",
        "        def canShip(capacity):\n",
        "            required_days = 1\n",
        "            current_weight = 0\n",
        "            for weight in weights:\n",
        "                if current_weight + weight > capacity:\n",
        "                    required_days += 1\n",
        "                    current_weight = 0\n",
        "                current_weight += weight\n",
        "            return required_days <= days\n",
        "\n",
        "        left, right = max(weights), sum(weights)\n",
        "        while left < right:\n",
        "            mid = (left + right) // 2\n",
        "            if canShip(mid):\n",
        "                right = mid\n",
        "            else:\n",
        "                left = mid + 1\n",
        "        return left"
      ],
      "metadata": {
        "id": "IfgGHz99VrM9"
      },
      "execution_count": 4,
      "outputs": []
    },
    {
      "cell_type": "code",
      "source": [
        "#leetcode question 74. search a 2d matrix\n",
        "class Solution(object):\n",
        "\n",
        "    def searchMatrix(self, matrix, target):\n",
        "\n",
        "        n = len(matrix)\n",
        "        m = len(matrix[0])\n",
        "        low = 0\n",
        "        high = m * n - 1\n",
        "\n",
        "        while low <= high:\n",
        "            mid = (low + high) // 2\n",
        "            row = mid // m\n",
        "            col = mid % m\n",
        "\n",
        "            if target == matrix[row][col]:\n",
        "                return True\n",
        "\n",
        "            if target > matrix[row][col]:\n",
        "                low = mid + 1\n",
        "            else:\n",
        "                high = mid - 1\n",
        "\n",
        "        return False"
      ],
      "metadata": {
        "id": "PdB8rmjbWjgc"
      },
      "execution_count": 1,
      "outputs": []
    },
    {
      "cell_type": "code",
      "source": [],
      "metadata": {
        "id": "Qcf6nt2YEnJJ"
      },
      "execution_count": null,
      "outputs": []
    }
  ]
}
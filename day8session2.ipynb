{
  "nbformat": 4,
  "nbformat_minor": 0,
  "metadata": {
    "colab": {
      "provenance": []
    },
    "kernelspec": {
      "name": "python3",
      "display_name": "Python 3"
    },
    "language_info": {
      "name": "python"
    }
  },
  "cells": [
    {
      "cell_type": "code",
      "source": [
        "#leet code question no 34\n",
        "class Solution:\n",
        "    def searchRange(self, nums, target):\n",
        "        def find_first(nums, target):\n",
        "            low, high = 0, len(nums) - 1\n",
        "            first = -1\n",
        "            while low <= high:\n",
        "                mid = (low + high) // 2\n",
        "                if nums[mid] < target:\n",
        "                    low = mid + 1\n",
        "                elif nums[mid] > target:\n",
        "                    high = mid - 1\n",
        "                else:\n",
        "                    first = mid\n",
        "                    high = mid - 1\n",
        "            return first\n",
        "\n",
        "        def find_last(nums, target):\n",
        "            low, high = 0, len(nums) - 1\n",
        "            last = -1\n",
        "            while low <= high:\n",
        "                mid = (low + high) // 2\n",
        "                if nums[mid] < target:\n",
        "                    low = mid + 1\n",
        "                elif nums[mid] > target:\n",
        "                    high = mid - 1\n",
        "                else:\n",
        "                    last = mid\n",
        "                    low = mid + 1\n",
        "            return last\n",
        "\n",
        "        start = find_first(nums, target)\n",
        "        end = find_last(nums, target)\n",
        "        return [start,end]"
      ],
      "metadata": {
        "id": "q8yyuJLmOtb8"
      },
      "execution_count": 3,
      "outputs": []
    },
    {
      "cell_type": "code",
      "execution_count": 2,
      "metadata": {
        "colab": {
          "base_uri": "https://localhost:8080/"
        },
        "id": "7OMPc2lGNPvT",
        "outputId": "566ddf3d-6de3-4846-f26a-8ff7f05aa176"
      },
      "outputs": [
        {
          "output_type": "stream",
          "name": "stdout",
          "text": [
            "[4, 5, 6, 7, 1, 2, 3]\n",
            "[5, 6, 7, 1, 2, 3, 4]\n"
          ]
        }
      ],
      "source": [
        "#rotate\n",
        "l=[1,2,3,4,5,6,7]\n",
        "k=3\n",
        "res1=l[k:]+l[:k]#left rotation\n",
        "print(res1)\n",
        "res2=l[-k:]+l[:-k]#right rotation\n",
        "print(res2)"
      ]
    },
    {
      "cell_type": "code",
      "source": [
        "#Binary Search on Rotated Sorted Array#sir gave\n",
        "a=[7,8,9,1,2,3,4,5,6]\n",
        "l=0\n",
        "r=len(a)-1\n",
        "while l<=r:\n",
        "  mid=(l+r)//2\n",
        "  if a[mid]>=a[mid+1]:\n",
        "    res=mid\n",
        "    break\n",
        "  if a[mid]>=a[0]:\n",
        "    res=mid-1\n",
        "    break\n",
        "  if a[l]>=a[mid]:\n",
        "    r=mid-1\n",
        "  else:\n",
        "    l=mid+1\n",
        "print(res)"
      ],
      "metadata": {
        "colab": {
          "base_uri": "https://localhost:8080/"
        },
        "id": "jfe6ybJlThBb",
        "outputId": "cdd91c1f-037e-4c07-a420-a4b105031287"
      },
      "execution_count": 8,
      "outputs": [
        {
          "output_type": "stream",
          "name": "stdout",
          "text": [
            "0\n"
          ]
        }
      ]
    },
    {
      "cell_type": "code",
      "source": [
        "#another one on Binary Search on Rotated Sorted Array\n",
        "a=[7,8,9,1,2,3,4,5,6]\n",
        "l=0\n",
        "r=len(a)-1\n",
        "res=-1\n",
        "while l<=r:\n",
        "    mid=(l+r)//2\n",
        "    if mid<len(a)-1 and a[mid]>a[mid+1]:\n",
        "        res=mid\n",
        "        break\n",
        "    elif a[mid]>=a[0]:\n",
        "        l=mid+1\n",
        "    else:\n",
        "        r=mid-1\n",
        "print(res)"
      ],
      "metadata": {
        "colab": {
          "base_uri": "https://localhost:8080/"
        },
        "id": "LCeW8SolOAzJ",
        "outputId": "02721182-ca06-4791-9c41-a664fd664692"
      },
      "execution_count": 10,
      "outputs": [
        {
          "output_type": "stream",
          "name": "stdout",
          "text": [
            "2\n"
          ]
        }
      ]
    },
    {
      "cell_type": "code",
      "source": [
        "#leet code question 69. SQRT(X)\n",
        "class Solution:\n",
        "    def mySqrt(self, x: int) -> int:\n",
        "        left = 1\n",
        "        right = x\n",
        "\n",
        "        while left <= right:\n",
        "            mid = (left + right) // 2\n",
        "            if mid * mid == x:\n",
        "                return mid\n",
        "            elif mid * mid < x:\n",
        "                left = mid + 1\n",
        "            else:\n",
        "                right = mid - 1\n",
        "\n",
        "        return right"
      ],
      "metadata": {
        "id": "_7j6Lv_WRNyF"
      },
      "execution_count": 2,
      "outputs": []
    },
    {
      "cell_type": "code",
      "source": [
        "#leetcode 33.serach in rotated sorted array\n",
        "class Solution:\n",
        "    def search(self, nums: list[int], target: int) -> int:\n",
        "        left = 0\n",
        "        right = len(nums) - 1\n",
        "        while left <= right:\n",
        "            mid = (left + right) // 2\n",
        "            if nums[mid] == target:\n",
        "                return mid\n",
        "            if nums[left] <= nums[mid]:\n",
        "                if nums[left] <= target < nums[mid]:\n",
        "                    right = mid - 1\n",
        "                else:\n",
        "                    left = mid + 1\n",
        "            else:\n",
        "                if nums[mid] < target <= nums[right]:\n",
        "                    left = mid + 1\n",
        "                else:\n",
        "                    right = mid - 1\n",
        "        return -1"
      ],
      "metadata": {
        "id": "cunvsGb83Rh1"
      },
      "execution_count": 3,
      "outputs": []
    },
    {
      "cell_type": "code",
      "source": [
        "n=input()"
      ],
      "metadata": {
        "colab": {
          "base_uri": "https://localhost:8080/"
        },
        "id": "mBLNoX00OHmB",
        "outputId": "450b07f2-ff4a-4822-afe0-359a4b8fbcb1"
      },
      "execution_count": 2,
      "outputs": [
        {
          "name": "stdout",
          "output_type": "stream",
          "text": [
            "6\n"
          ]
        }
      ]
    },
    {
      "cell_type": "code",
      "source": [],
      "metadata": {
        "id": "BFcTRRajopJu"
      },
      "execution_count": null,
      "outputs": []
    }
  ]
}
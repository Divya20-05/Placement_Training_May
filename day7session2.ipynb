{
  "nbformat": 4,
  "nbformat_minor": 0,
  "metadata": {
    "colab": {
      "provenance": []
    },
    "kernelspec": {
      "name": "python3",
      "display_name": "Python 3"
    },
    "language_info": {
      "name": "python"
    }
  },
  "cells": [
    {
      "cell_type": "code",
      "execution_count": 2,
      "metadata": {
        "id": "JCc5xisWqgTm",
        "colab": {
          "base_uri": "https://localhost:8080/"
        },
        "outputId": "bdbfa982-55e2-4883-e4b5-b50a1a42be65"
      },
      "outputs": [
        {
          "output_type": "stream",
          "name": "stdout",
          "text": [
            "2 4 6\n",
            "3 5 7\n",
            "[2, 3, 4, 5, 6, 7]\n"
          ]
        }
      ],
      "source": [
        "#sort two lists as single list in ascending\n",
        "a1=list(map(int,input().split()))\n",
        "a2=list(map(int,input().split()))\n",
        "res=[]\n",
        "i=0\n",
        "j=0\n",
        "while i<len(a1) and j<len(a2):\n",
        "  if a1[i]<a2[j]:\n",
        "      res.append(a1[i])\n",
        "      i+=1\n",
        "  else:\n",
        "      res.append(a2[j])\n",
        "      j+=1\n",
        "while i<len(a1):\n",
        "  res.append(a1[i])\n",
        "  i+=1\n",
        "while j<len(a2):\n",
        "  res.append(a2[j])\n",
        "  j+=1\n",
        "print(res)"
      ]
    },
    {
      "cell_type": "code",
      "source": [
        "def div(arr):\n",
        "  if len(arr)<=1:\n",
        "    return arr\n",
        "  mid=len(arr)//2\n",
        "  left=div(arr[:mid])\n",
        "  right=div(arr[mid:])\n",
        "  return merge(left,right)\n",
        "def merge(left,right):\n",
        "  res=[]\n",
        "  res.extend(right[j:])\n",
        "print(res)"
      ],
      "metadata": {
        "colab": {
          "base_uri": "https://localhost:8080/"
        },
        "id": "mlNhcaPosdBB",
        "outputId": "8b2ddcc2-bac6-413b-d1ab-b0a586c704e6"
      },
      "execution_count": 3,
      "outputs": [
        {
          "output_type": "stream",
          "name": "stdout",
          "text": [
            "[2, 3, 4, 5, 6, 7]\n"
          ]
        }
      ]
    },
    {
      "cell_type": "code",
      "source": [
        "a=[5,3,6,2,2,1,1,8,7,3,1,12]\n",
        "k=4\n",
        "res=[0]*(max(a)+1)\n",
        "for i in a:\n",
        "  res[i]+=1\n",
        "for i in range(len(res)-1,-1,-1):\n",
        "  if res[i]==i:\n",
        "    k-=1\n",
        "  if k==0:\n",
        "    print(i)\n",
        "    break"
      ],
      "metadata": {
        "id": "V-5768cuFzM0"
      },
      "execution_count": 4,
      "outputs": []
    },
    {
      "cell_type": "code",
      "source": [
        "a=[5,3,3,5,2,2,2,2,1,1,4,4,3,1]\n",
        "dict={}\n",
        "for i in a:\n",
        "  if i not in dict:\n",
        "    dict[i] = 1\n",
        "  else:\n",
        "    dict[i]+=1\n",
        "m=max(dict.values())\n",
        "b=[[] for i in range(m+1)]\n",
        "for i in dict:\n",
        "  b[dict[i]].append(i)\n",
        "res=[]\n",
        "print(b)\n",
        "for i in range(1, len(b)):\n",
        "  for j in b[i]:\n",
        "    res.extend([j]*i)\n",
        "print(res)"
      ],
      "metadata": {
        "colab": {
          "base_uri": "https://localhost:8080/"
        },
        "id": "XSNOGVlWO2GT",
        "outputId": "6d75e9ea-197d-4d73-f781-1a85a2341d23"
      },
      "execution_count": 5,
      "outputs": [
        {
          "output_type": "stream",
          "name": "stdout",
          "text": [
            "[[], [], [5, 4], [3, 1], [2]]\n",
            "[5, 5, 4, 4, 3, 3, 3, 1, 1, 1, 2, 2, 2, 2]\n"
          ]
        }
      ]
    },
    {
      "cell_type": "code",
      "source": [
        "a=[3,2,2,2,1]\n",
        "c=-1\n",
        "v=0\n",
        "for i in a:\n",
        "  if v==0:\n",
        "    c=i\n",
        "  elif i==c:\n",
        "    v+=1\n",
        "  else:\n",
        "    v-=1\n",
        "print(c)"
      ],
      "metadata": {
        "colab": {
          "base_uri": "https://localhost:8080/"
        },
        "id": "cRLrNWeForHS",
        "outputId": "03df4bb0-a26c-4fe2-b280-2293a8df1521"
      },
      "execution_count": 7,
      "outputs": [
        {
          "output_type": "stream",
          "name": "stdout",
          "text": [
            "1\n"
          ]
        }
      ]
    },
    {
      "cell_type": "code",
      "source": [
        "#linear search\n",
        "l=[1,2,3,4,4]\n",
        "k=4\n",
        "for i in range(len(l)):\n",
        "  if l[i]==k:\n",
        "    print(i)"
      ],
      "metadata": {
        "colab": {
          "base_uri": "https://localhost:8080/"
        },
        "id": "hCZZS6ET0c9d",
        "outputId": "7f2cf4c9-cd9e-4388-d741-ee8f6587945a"
      },
      "execution_count": 9,
      "outputs": [
        {
          "output_type": "stream",
          "name": "stdout",
          "text": [
            "3\n",
            "4\n"
          ]
        }
      ]
    },
    {
      "cell_type": "code",
      "source": [
        "#binary search\n",
        "l=[1,2,3,4,4]\n",
        "k=4\n",
        "l"
      ],
      "metadata": {
        "colab": {
          "base_uri": "https://localhost:8080/"
        },
        "id": "F2Qsp9s-1Rl3",
        "outputId": "eddb02e4-9973-4a4d-d77c-e9f80479bdd1"
      },
      "execution_count": 2,
      "outputs": [
        {
          "output_type": "execute_result",
          "data": {
            "text/plain": [
              "[1, 2, 3, 4, 4]"
            ]
          },
          "metadata": {},
          "execution_count": 2
        }
      ]
    },
    {
      "cell_type": "code",
      "source": [
        "def binary_search(arr, target):\n",
        "    low = 0\n",
        "    high = len(arr) - 1\n",
        "    while low <= high:\n",
        "        mid = (low + high) // 2\n",
        "        if arr[mid] == target:\n",
        "            return mid\n",
        "        elif arr[mid] < target:\n",
        "            low = mid + 1\n",
        "        else:\n",
        "            high = mid - 1\n",
        "    return -1\n",
        "\n",
        "# Example usage with a sorted list\n",
        "sorted_list = [1, 5, 10, 15, 20, 25]\n",
        "target_element1 =int(input())\n",
        "target_element2=int(input())\n",
        "index = binary_search(sorted_list, target_element1 and target_element2)\n",
        "#index = binary_search(sorted_list,target_element2)\n",
        "print(index)"
      ],
      "metadata": {
        "colab": {
          "base_uri": "https://localhost:8080/"
        },
        "id": "2GgXSkhV5PUD",
        "outputId": "48a1b865-9cf3-46a4-84b8-9e0318a94e33"
      },
      "execution_count": 8,
      "outputs": [
        {
          "output_type": "stream",
          "name": "stdout",
          "text": [
            "15\n",
            "20\n",
            "4\n"
          ]
        }
      ]
    },
    {
      "cell_type": "code",
      "source": [],
      "metadata": {
        "id": "WvGi0pXr56Ta"
      },
      "execution_count": null,
      "outputs": []
    }
  ]
}